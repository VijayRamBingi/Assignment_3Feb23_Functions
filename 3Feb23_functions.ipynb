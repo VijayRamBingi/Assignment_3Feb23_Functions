{
 "cells": [
  {
   "cell_type": "markdown",
   "id": "7a511091-32b6-46e9-a827-8688fe544704",
   "metadata": {},
   "source": [
    "## Q1. Which keyword is used to create a function? Create a function to return a list of odd numbers in the range of 1 to 25."
   ]
  },
  {
   "cell_type": "markdown",
   "id": "aacdb822-1b9a-4542-b0eb-f79a9b31b4dc",
   "metadata": {},
   "source": [
    "* The def keyword is used to create a function in Python. Here's an example of how to create a function named get_odd_numbers that returns a list of odd numbers in the range of 1 to 25"
   ]
  },
  {
   "cell_type": "code",
   "execution_count": 2,
   "id": "f96760d8-cb87-406f-a2aa-afd659767dde",
   "metadata": {},
   "outputs": [
    {
     "name": "stdout",
     "output_type": "stream",
     "text": [
      "[1, 3, 5, 7, 9, 11, 13, 15, 17, 19, 21, 23, 25]\n"
     ]
    }
   ],
   "source": [
    "def get_odd_numbers():\n",
    "    odd_numbers = []\n",
    "    for i in range(1, 26):\n",
    "        if i % 2 == 1:\n",
    "            odd_numbers.append(i)\n",
    "    return odd_numbers\n",
    "\n",
    "odd_numbers_list = get_odd_numbers()\n",
    "print(odd_numbers_list)"
   ]
  },
  {
   "cell_type": "markdown",
   "id": "93391dee-70e8-4604-b10f-84cf20cdb3aa",
   "metadata": {},
   "source": [
    "# "
   ]
  },
  {
   "cell_type": "markdown",
   "id": "c16df7ae-0b9c-4a0f-8c0b-7515b4a2f9c3",
   "metadata": {},
   "source": [
    "# "
   ]
  },
  {
   "cell_type": "markdown",
   "id": "db99d2b2-91c3-4112-a147-4428f1baaa0a",
   "metadata": {},
   "source": [
    "## Q2. Why *args and **kwargs is used in some functions? Create a function each for *args and **kwargs to demonstrate their use."
   ]
  },
  {
   "cell_type": "markdown",
   "id": "14d95384-ad32-46cd-9456-4b2f642f866f",
   "metadata": {},
   "source": [
    "* *args and **kwargs are special syntax in Python that allow a function to accept any number of arguments or keyword arguments, respectively.\n",
    "\n",
    "* The *args syntax allows a function to accept a variable number of non-keyword arguments, while **kwargs allows a function to accept a variable number of keyword arguments.\n",
    "\n",
    "* Here's an example of a function that uses *args to accept any number of arguments and returns their sum:"
   ]
  },
  {
   "cell_type": "markdown",
   "id": "23591e73-59ce-49e4-8b8e-85111cc78e41",
   "metadata": {},
   "source": [
    "* NOTE : not only name args but we can use user defined and non-keyword name."
   ]
  },
  {
   "cell_type": "code",
   "execution_count": 4,
   "id": "740e7b09-1cd6-4d31-9a97-0db6f6edb5c5",
   "metadata": {},
   "outputs": [
    {
     "name": "stdout",
     "output_type": "stream",
     "text": [
      "15\n"
     ]
    }
   ],
   "source": [
    "def sum_numbers(*args): # accepts any number of arguments using the *args syntax.\n",
    "    result = 0\n",
    "    for num in args:\n",
    "        result += num\n",
    "    return result\n",
    "\n",
    "sum_result = sum_numbers(1, 2, 3, 4, 5)\n",
    "print(sum_result)"
   ]
  },
  {
   "cell_type": "markdown",
   "id": "aee5c835-327a-469f-813a-b4d9c6d38d64",
   "metadata": {},
   "source": [
    "* Here's an example of a function that uses **kwargs to accept any number of keyword arguments and returns their values:"
   ]
  },
  {
   "cell_type": "code",
   "execution_count": 5,
   "id": "21ab959a-2009-4761-ba59-c049c55b8f63",
   "metadata": {},
   "outputs": [
    {
     "name": "stdout",
     "output_type": "stream",
     "text": [
      "name: John\n",
      "age: 30\n",
      "country: USA\n"
     ]
    }
   ],
   "source": [
    "def print_values(**kwargs): # accepts any number of keyword arguments using the **kwargs syntax\n",
    "    for key, value in kwargs.items():\n",
    "        print(f\"{key}: {value}\")\n",
    "\n",
    "print_values(name='John', age=30, country='USA')"
   ]
  },
  {
   "cell_type": "markdown",
   "id": "45c6c7fe-4fb5-418e-99a1-7dded1a0b6de",
   "metadata": {},
   "source": [
    "# "
   ]
  },
  {
   "cell_type": "markdown",
   "id": "a5c0425e-9fba-4922-89db-ca56766253fc",
   "metadata": {},
   "source": [
    "#"
   ]
  },
  {
   "cell_type": "markdown",
   "id": "a9f3a66a-0f9c-4185-ac92-6f2108890d56",
   "metadata": {},
   "source": [
    "## Q3. What is an iterator in python? Name the method used to initialise the iterator object and the method used for iteration. Use these methods to print the first five elements of the given list [2, 4, 6, 8, 10, 12, 14, 16,18, 20]."
   ]
  },
  {
   "cell_type": "markdown",
   "id": "b4d5c241-fa6e-4c02-88ea-800874cbfa84",
   "metadata": {},
   "source": [
    "* An iterator in Python is an object that allows us to iterate over a collection of data, such as a list or a dictionary, and retrieve each element one at a time.\n",
    "\n",
    "* To initialize an iterator object in Python, we can use the built-in ***iter()*** function. The ***iter()*** function takes an iterable object as an argument and returns an iterator object.\n",
    "\n",
    "* To iterate over the elements of an iterator object, we can use the built-in ***next()*** function. The ***next()*** function retrieves the next element from the iterator each time it is called.\n",
    "\n",
    "* Here's an example of how to use these methods to print the first five elements of the list [2, 4, 6, 8, 10, 12, 14, 16, 18, 20]:"
   ]
  },
  {
   "cell_type": "code",
   "execution_count": 7,
   "id": "aaae4997-31c3-47e0-a07d-7cd548a2eef8",
   "metadata": {},
   "outputs": [
    {
     "name": "stdout",
     "output_type": "stream",
     "text": [
      "2\n",
      "4\n",
      "6\n",
      "8\n",
      "10\n",
      "12\n",
      "14\n",
      "16\n"
     ]
    }
   ],
   "source": [
    "# Create an iterator object for the list\n",
    "my_list = [2, 4, 6, 8, 10, 12, 14, 16, 18, 20]\n",
    "my_iterator = iter(my_list)\n",
    "\n",
    "# Print the first eight elements of the list\n",
    "for i in range(8):\n",
    "    print(next(my_iterator))\n"
   ]
  },
  {
   "cell_type": "markdown",
   "id": "9efcebef-ea42-47d6-ba33-c0a0e9b76775",
   "metadata": {},
   "source": [
    "#"
   ]
  },
  {
   "cell_type": "markdown",
   "id": "3e300d92-169a-4460-a192-e97a8856a2f3",
   "metadata": {},
   "source": [
    "#"
   ]
  },
  {
   "cell_type": "markdown",
   "id": "fa01cdd6-82e9-4c2b-8ae7-61ddf221796d",
   "metadata": {},
   "source": [
    "## Q4. What is a generator function in python? Why yield keyword is used? Give an example of a generator function."
   ]
  },
  {
   "cell_type": "markdown",
   "id": "eb5837d8-3289-421d-b345-ee60ba237e5c",
   "metadata": {},
   "source": [
    "* A generator function in Python is a type of function that allows us to generate a sequence of values on-the-fly, rather than generating them all at once and storing them in memory. Instead of returning a single value like a regular function, a generator function uses the yield keyword to produce a series of values that can be iterated over using a for loop or by calling the next() function.\n",
    "\n",
    "* The ***yield*** keyword is used in a generator function to specify the value that should be generated at each step of the iteration. When the yield keyword is encountered in a generator function, the current value is returned to the caller, but the function's state is saved, allowing it to resume where it left off the next time it is called.\n",
    "\n",
    "* Here's an example of a generator function that produces a sequence of even numbers:"
   ]
  },
  {
   "cell_type": "code",
   "execution_count": 8,
   "id": "d96a8bde-014e-45e1-9921-8458e7a9b752",
   "metadata": {},
   "outputs": [
    {
     "name": "stdout",
     "output_type": "stream",
     "text": [
      "0\n",
      "2\n",
      "4\n",
      "6\n",
      "8\n",
      "10\n"
     ]
    }
   ],
   "source": [
    "def generate_evens(max_num):\n",
    "    num = 0\n",
    "    while num <= max_num:\n",
    "        yield num\n",
    "        num += 2\n",
    "\n",
    "for even_num in generate_evens(10):\n",
    "    print(even_num)\n"
   ]
  },
  {
   "cell_type": "markdown",
   "id": "58db80fd-a587-4486-979b-0f203cdcdfeb",
   "metadata": {},
   "source": [
    "#"
   ]
  },
  {
   "cell_type": "markdown",
   "id": "9f9240b9-7df3-41d8-987f-227fcb1febec",
   "metadata": {},
   "source": [
    "#"
   ]
  },
  {
   "cell_type": "markdown",
   "id": "e74717d3-0ac4-4eca-a31d-5447ff103ac9",
   "metadata": {},
   "source": [
    "## Q5. Create a generator function for prime numbers less than 1000. Use the next() method to print the first 20 prime numbers."
   ]
  },
  {
   "cell_type": "code",
   "execution_count": 9,
   "id": "34e91bdf-6a9b-49c8-9d98-93cada652ba9",
   "metadata": {},
   "outputs": [
    {
     "name": "stdout",
     "output_type": "stream",
     "text": [
      "2\n",
      "3\n",
      "5\n",
      "7\n",
      "11\n",
      "13\n",
      "17\n",
      "19\n",
      "23\n",
      "29\n",
      "31\n",
      "37\n",
      "41\n",
      "43\n",
      "47\n",
      "53\n",
      "59\n",
      "61\n",
      "67\n",
      "71\n"
     ]
    }
   ],
   "source": [
    "def prime_gen():\n",
    "    \"\"\"\n",
    "    A generator function that yields prime numbers less than 1000\n",
    "    \"\"\"\n",
    "    primes = []  # list to store prime numbers found so far\n",
    "    for num in range(2, 1000):\n",
    "        is_prime = True\n",
    "        for prime in primes:\n",
    "            if num % prime == 0:\n",
    "                is_prime = False\n",
    "                break\n",
    "        if is_prime:\n",
    "            primes.append(num)\n",
    "            yield num\n",
    "            \n",
    "# create the generator object\n",
    "prime_generator = prime_gen()\n",
    "\n",
    "# print the first 20 prime numbers using the next() method\n",
    "for i in range(20):\n",
    "    print(next(prime_generator))\n"
   ]
  },
  {
   "cell_type": "markdown",
   "id": "fadf512b-d361-4a5a-aa3f-c1f70450d55f",
   "metadata": {},
   "source": [
    "* The function prime_gen() generates prime numbers less than 1000 using the Sieve of Eratosthenes algorithm. It starts by initializing an empty list primes to store prime numbers found so far. Then it iterates through numbers from 2 to 999, checking if each number is divisible by any of the prime numbers found so far. If a number is not divisible by any of the primes, it is added to the primes list and yielded by the generator function.\n",
    "\n",
    "* To print the first 20 prime numbers using the next() method, we first create a generator object by calling the prime_gen() function. Then we use a for loop to call the next() method on the generator object 20 times and print the returned value. The next() method gets the next value from the generator sequence and advances the generator to the next yield statement"
   ]
  }
 ],
 "metadata": {
  "kernelspec": {
   "display_name": "Python 3 (ipykernel)",
   "language": "python",
   "name": "python3"
  },
  "language_info": {
   "codemirror_mode": {
    "name": "ipython",
    "version": 3
   },
   "file_extension": ".py",
   "mimetype": "text/x-python",
   "name": "python",
   "nbconvert_exporter": "python",
   "pygments_lexer": "ipython3",
   "version": "3.10.8"
  }
 },
 "nbformat": 4,
 "nbformat_minor": 5
}
